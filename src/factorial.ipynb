{
 "cells": [
  {
   "cell_type": "code",
   "execution_count": 21,
   "id": "348d7dd1",
   "metadata": {},
   "outputs": [
    {
     "name": "stdout",
     "output_type": "stream",
     "text": [
      "564! is 564.0 times larger than 563!\n"
     ]
    }
   ],
   "source": [
    "def factorial(n):\n",
    "    \"\"\"\n",
    "    Calculate the factorial of a number n.\n",
    "    \n",
    "    :param n: Non-negative integer\n",
    "    :return: Factorial of n\n",
    "    \"\"\"\n",
    "    if n < 0:\n",
    "        raise ValueError(\"Factorial is not defined for negative numbers.\")\n",
    "    if n == 0 or n == 1:\n",
    "        return 1\n",
    "    return n * factorial(n - 1)\n",
    "\n",
    "x = factorial(564)\n",
    "y = factorial(563)\n",
    "\n",
    "# How much larger is 564! than 563!?\n",
    "def factorial_ratio(f1, f2):\n",
    "    \"\"\"\n",
    "    Calculate the ratio between n! and (n-1)!.\n",
    "    \n",
    "    :param f1: Factorial of n\n",
    "    :param f2: Factorial of (n-1)\n",
    "    :return: Ratio between n! and (n-1)!\n",
    "    \"\"\"\n",
    "    if f1 <= 0 or f2 <= 0:\n",
    "        raise ValueError(\"Factorial values must be positive.\")\n",
    "    return f1 / f2\n",
    "\n",
    "# Compute the ratio\n",
    "ratio = factorial_ratio(x, y)\n",
    "print(f'564! is {ratio} times larger than 563!')"
   ]
  }
 ],
 "metadata": {
  "kernelspec": {
   "display_name": ".venv",
   "language": "python",
   "name": "python3"
  },
  "language_info": {
   "codemirror_mode": {
    "name": "ipython",
    "version": 3
   },
   "file_extension": ".py",
   "mimetype": "text/x-python",
   "name": "python",
   "nbconvert_exporter": "python",
   "pygments_lexer": "ipython3",
   "version": "3.13.1"
  }
 },
 "nbformat": 4,
 "nbformat_minor": 5
}
